{
 "cells": [
  {
   "cell_type": "markdown",
   "id": "11c9f52f",
   "metadata": {},
   "source": [
    "# d-q座標系におけるLCL回路のインピーダンス\n",
    "下に示すLCL回路のd-q座標上でのインピーダンスを求める。\n",
    "\n",
    "<img src=\"LCL.png\" width=\"400px\"/>"
   ]
  },
  {
   "cell_type": "code",
   "execution_count": 1,
   "id": "17411aeb",
   "metadata": {},
   "outputs": [],
   "source": [
    "import sympy as sp\n",
    "import numpy as np\n",
    "import matplotlib.pyplot as plt\n",
    "\n",
    "# 並列演算記号'//'のオーバーライド\n",
    "## 関数parallelを定義\n",
    "def parallel(self, other):\n",
    "    return self * other / (self + other)\n",
    "\n",
    "## Symbol, Add, Mulのアトリビュート__floordiv__()をparallel()でオーバーライド\n",
    "sp.Symbol.__floordiv__ = parallel\n",
    "sp.Add.__floordiv__ = parallel\n",
    "sp.Mul.__floordiv__ = parallel\n",
    "\n",
    "# 回路要素のシンボル\n",
    "R1, L1, R2, L2, C, Rp = sp.symbols('R_1 L_1 R_2 L_2 C R_p', real = True, positive = True)\n",
    "\n",
    "# ラプラス演算子のシンボル（便宜上，real = Trueとする）\n",
    "s = sp.symbols('s', real = True)\n",
    "\n",
    "# 角周波数のシンボル\n",
    "omega, omega1 = sp.symbols('omega omega_1', real = True)"
   ]
  },
  {
   "cell_type": "code",
   "execution_count": 2,
   "id": "3b843145",
   "metadata": {},
   "outputs": [],
   "source": [
    "# 静止(α-β)座標系でのインピーダンス\n",
    "Zs = R1 + s * L1 + (R2 + s * L2) // (1 / (s * C) // Rp)\n",
    "\n",
    "# ただのRL直列回路の場合\n",
    "# Zs = R1 + s * L1"
   ]
  },
  {
   "cell_type": "code",
   "execution_count": 3,
   "id": "20359671",
   "metadata": {},
   "outputs": [
    {
     "data": {
      "text/latex": [
       "$\\displaystyle L_{1} s + R_{1} + \\frac{L_{2} R_{p} s + R_{2} R_{p}}{C L_{2} R_{p} s^{2} + R_{2} + R_{p} + s \\left(C R_{2} R_{p} + L_{2}\\right)}$"
      ],
      "text/plain": [
       "L_1*s + R_1 + (L_2*R_p*s + R_2*R_p)/(C*L_2*R_p*s**2 + R_2 + R_p + s*(C*R_2*R_p + L_2))"
      ]
     },
     "execution_count": 3,
     "metadata": {},
     "output_type": "execute_result"
    }
   ],
   "source": [
    "Zs.ratsimp().collect(s)"
   ]
  },
  {
   "cell_type": "code",
   "execution_count": 4,
   "id": "4ba263cf",
   "metadata": {},
   "outputs": [],
   "source": [
    "# 回転(d-q)座標系でのインピーダンス\n",
    "Z = Zs.subs(s, (s - sp.I * omega1))"
   ]
  },
  {
   "cell_type": "code",
   "execution_count": 5,
   "id": "f67d8c60",
   "metadata": {},
   "outputs": [],
   "source": [
    "# 対角成分\n",
    "Zd = sp.re(Z).simplify()"
   ]
  },
  {
   "cell_type": "code",
   "execution_count": 6,
   "id": "5eb8d3d1",
   "metadata": {
    "tags": []
   },
   "outputs": [],
   "source": [
    "## 対角成分の式の整理\n",
    "### 分子の抽出\n",
    "Zd_num = sp.numer(Zd).expand().collect(s)"
   ]
  },
  {
   "cell_type": "code",
   "execution_count": 7,
   "id": "438436e1",
   "metadata": {},
   "outputs": [
    {
     "data": {
      "text/latex": [
       "$\\displaystyle C^{2} L_{1} L_{2}^{2} R_{p}^{2} s^{5} + C^{2} L_{2}^{2} R_{1} R_{p}^{2} \\omega_{1}^{4} + C^{2} R_{1} R_{2}^{2} R_{p}^{2} \\omega_{1}^{2} - 2 C L_{2} R_{1} R_{p}^{2} \\omega_{1}^{2} + L_{2}^{2} R_{1} \\omega_{1}^{2} + L_{2}^{2} R_{p} \\omega_{1}^{2} + R_{1} R_{2}^{2} + 2 R_{1} R_{2} R_{p} + R_{1} R_{p}^{2} + R_{2}^{2} R_{p} + R_{2} R_{p}^{2} + s^{4} \\left(2 C^{2} L_{1} L_{2} R_{2} R_{p}^{2} + C^{2} L_{2}^{2} R_{1} R_{p}^{2} + 2 C L_{1} L_{2}^{2} R_{p}\\right) + s^{3} \\left(2 C^{2} L_{1} L_{2}^{2} R_{p}^{2} \\omega_{1}^{2} + C^{2} L_{1} R_{2}^{2} R_{p}^{2} + 2 C^{2} L_{2} R_{1} R_{2} R_{p}^{2} + 4 C L_{1} L_{2} R_{2} R_{p} + 2 C L_{1} L_{2} R_{p}^{2} + 2 C L_{2}^{2} R_{1} R_{p} + C L_{2}^{2} R_{p}^{2} + L_{1} L_{2}^{2}\\right) + s^{2} \\left(2 C^{2} L_{1} L_{2} R_{2} R_{p}^{2} \\omega_{1}^{2} + 2 C^{2} L_{2}^{2} R_{1} R_{p}^{2} \\omega_{1}^{2} + C^{2} R_{1} R_{2}^{2} R_{p}^{2} + 2 C L_{1} L_{2}^{2} R_{p} \\omega_{1}^{2} + 2 C L_{1} R_{2}^{2} R_{p} + 2 C L_{1} R_{2} R_{p}^{2} + 4 C L_{2} R_{1} R_{2} R_{p} + 2 C L_{2} R_{1} R_{p}^{2} + 2 C L_{2} R_{2} R_{p}^{2} + 2 L_{1} L_{2} R_{2} + 2 L_{1} L_{2} R_{p} + L_{2}^{2} R_{1} + L_{2}^{2} R_{p}\\right) + s \\left(C^{2} L_{1} L_{2}^{2} R_{p}^{2} \\omega_{1}^{4} + C^{2} L_{1} R_{2}^{2} R_{p}^{2} \\omega_{1}^{2} + 2 C^{2} L_{2} R_{1} R_{2} R_{p}^{2} \\omega_{1}^{2} - 2 C L_{1} L_{2} R_{p}^{2} \\omega_{1}^{2} + 2 C L_{2}^{2} R_{1} R_{p} \\omega_{1}^{2} + C L_{2}^{2} R_{p}^{2} \\omega_{1}^{2} + 2 C R_{1} R_{2}^{2} R_{p} + 2 C R_{1} R_{2} R_{p}^{2} + C R_{2}^{2} R_{p}^{2} + L_{1} L_{2}^{2} \\omega_{1}^{2} + L_{1} R_{2}^{2} + 2 L_{1} R_{2} R_{p} + L_{1} R_{p}^{2} + 2 L_{2} R_{1} R_{2} + 2 L_{2} R_{1} R_{p} + 2 L_{2} R_{2} R_{p} + L_{2} R_{p}^{2}\\right)$"
      ],
      "text/plain": [
       "C**2*L_1*L_2**2*R_p**2*s**5 + C**2*L_2**2*R_1*R_p**2*omega_1**4 + C**2*R_1*R_2**2*R_p**2*omega_1**2 - 2*C*L_2*R_1*R_p**2*omega_1**2 + L_2**2*R_1*omega_1**2 + L_2**2*R_p*omega_1**2 + R_1*R_2**2 + 2*R_1*R_2*R_p + R_1*R_p**2 + R_2**2*R_p + R_2*R_p**2 + s**4*(2*C**2*L_1*L_2*R_2*R_p**2 + C**2*L_2**2*R_1*R_p**2 + 2*C*L_1*L_2**2*R_p) + s**3*(2*C**2*L_1*L_2**2*R_p**2*omega_1**2 + C**2*L_1*R_2**2*R_p**2 + 2*C**2*L_2*R_1*R_2*R_p**2 + 4*C*L_1*L_2*R_2*R_p + 2*C*L_1*L_2*R_p**2 + 2*C*L_2**2*R_1*R_p + C*L_2**2*R_p**2 + L_1*L_2**2) + s**2*(2*C**2*L_1*L_2*R_2*R_p**2*omega_1**2 + 2*C**2*L_2**2*R_1*R_p**2*omega_1**2 + C**2*R_1*R_2**2*R_p**2 + 2*C*L_1*L_2**2*R_p*omega_1**2 + 2*C*L_1*R_2**2*R_p + 2*C*L_1*R_2*R_p**2 + 4*C*L_2*R_1*R_2*R_p + 2*C*L_2*R_1*R_p**2 + 2*C*L_2*R_2*R_p**2 + 2*L_1*L_2*R_2 + 2*L_1*L_2*R_p + L_2**2*R_1 + L_2**2*R_p) + s*(C**2*L_1*L_2**2*R_p**2*omega_1**4 + C**2*L_1*R_2**2*R_p**2*omega_1**2 + 2*C**2*L_2*R_1*R_2*R_p**2*omega_1**2 - 2*C*L_1*L_2*R_p**2*omega_1**2 + 2*C*L_2**2*R_1*R_p*omega_1**2 + C*L_2**2*R_p**2*omega_1**2 + 2*C*R_1*R_2**2*R_p + 2*C*R_1*R_2*R_p**2 + C*R_2**2*R_p**2 + L_1*L_2**2*omega_1**2 + L_1*R_2**2 + 2*L_1*R_2*R_p + L_1*R_p**2 + 2*L_2*R_1*R_2 + 2*L_2*R_1*R_p + 2*L_2*R_2*R_p + L_2*R_p**2)"
      ]
     },
     "execution_count": 7,
     "metadata": {},
     "output_type": "execute_result"
    }
   ],
   "source": [
    "Zd_num"
   ]
  },
  {
   "cell_type": "code",
   "execution_count": 8,
   "id": "ba2fecd3",
   "metadata": {},
   "outputs": [],
   "source": [
    "### 分子の係数\n",
    "A5 = Zd_num.coeff(s, 5)\n",
    "A4 = Zd_num.coeff(s, 4)\n",
    "A3 = Zd_num.coeff(s, 3)\n",
    "A2 = Zd_num.coeff(s, 2)\n",
    "A1 = Zd_num.coeff(s, 1)\n",
    "A0 = Zd_num.coeff(s, 0)"
   ]
  },
  {
   "cell_type": "code",
   "execution_count": 9,
   "id": "fb4cbffb",
   "metadata": {},
   "outputs": [
    {
     "data": {
      "text/latex": [
       "$\\displaystyle C^{2} L_{1} L_{2}^{2} R_{p}^{2}$"
      ],
      "text/plain": [
       "C**2*L_1*L_2**2*R_p**2"
      ]
     },
     "execution_count": 9,
     "metadata": {},
     "output_type": "execute_result"
    }
   ],
   "source": [
    "A5"
   ]
  },
  {
   "cell_type": "code",
   "execution_count": 10,
   "id": "f85cd3be",
   "metadata": {},
   "outputs": [
    {
     "data": {
      "text/latex": [
       "$\\displaystyle 2 C^{2} L_{1} L_{2} R_{2} R_{p}^{2} + C^{2} L_{2}^{2} R_{1} R_{p}^{2} + 2 C L_{1} L_{2}^{2} R_{p}$"
      ],
      "text/plain": [
       "2*C**2*L_1*L_2*R_2*R_p**2 + C**2*L_2**2*R_1*R_p**2 + 2*C*L_1*L_2**2*R_p"
      ]
     },
     "execution_count": 10,
     "metadata": {},
     "output_type": "execute_result"
    }
   ],
   "source": [
    "A4"
   ]
  },
  {
   "cell_type": "code",
   "execution_count": 11,
   "id": "4de9f77a",
   "metadata": {},
   "outputs": [
    {
     "data": {
      "text/latex": [
       "$\\displaystyle 2 C^{2} L_{1} L_{2}^{2} R_{p}^{2} \\omega_{1}^{2} + C^{2} L_{1} R_{2}^{2} R_{p}^{2} + 2 C^{2} L_{2} R_{1} R_{2} R_{p}^{2} + 4 C L_{1} L_{2} R_{2} R_{p} + 2 C L_{1} L_{2} R_{p}^{2} + 2 C L_{2}^{2} R_{1} R_{p} + C L_{2}^{2} R_{p}^{2} + L_{1} L_{2}^{2}$"
      ],
      "text/plain": [
       "2*C**2*L_1*L_2**2*R_p**2*omega_1**2 + C**2*L_1*R_2**2*R_p**2 + 2*C**2*L_2*R_1*R_2*R_p**2 + 4*C*L_1*L_2*R_2*R_p + 2*C*L_1*L_2*R_p**2 + 2*C*L_2**2*R_1*R_p + C*L_2**2*R_p**2 + L_1*L_2**2"
      ]
     },
     "execution_count": 11,
     "metadata": {},
     "output_type": "execute_result"
    }
   ],
   "source": [
    "A3"
   ]
  },
  {
   "cell_type": "code",
   "execution_count": 12,
   "id": "c1f0945b",
   "metadata": {},
   "outputs": [
    {
     "data": {
      "text/latex": [
       "$\\displaystyle 2 C^{2} L_{1} L_{2} R_{2} R_{p}^{2} \\omega_{1}^{2} + 2 C^{2} L_{2}^{2} R_{1} R_{p}^{2} \\omega_{1}^{2} + C^{2} R_{1} R_{2}^{2} R_{p}^{2} + 2 C L_{1} L_{2}^{2} R_{p} \\omega_{1}^{2} + 2 C L_{1} R_{2}^{2} R_{p} + 2 C L_{1} R_{2} R_{p}^{2} + 4 C L_{2} R_{1} R_{2} R_{p} + 2 C L_{2} R_{1} R_{p}^{2} + 2 C L_{2} R_{2} R_{p}^{2} + 2 L_{1} L_{2} R_{2} + 2 L_{1} L_{2} R_{p} + L_{2}^{2} R_{1} + L_{2}^{2} R_{p}$"
      ],
      "text/plain": [
       "2*C**2*L_1*L_2*R_2*R_p**2*omega_1**2 + 2*C**2*L_2**2*R_1*R_p**2*omega_1**2 + C**2*R_1*R_2**2*R_p**2 + 2*C*L_1*L_2**2*R_p*omega_1**2 + 2*C*L_1*R_2**2*R_p + 2*C*L_1*R_2*R_p**2 + 4*C*L_2*R_1*R_2*R_p + 2*C*L_2*R_1*R_p**2 + 2*C*L_2*R_2*R_p**2 + 2*L_1*L_2*R_2 + 2*L_1*L_2*R_p + L_2**2*R_1 + L_2**2*R_p"
      ]
     },
     "execution_count": 12,
     "metadata": {},
     "output_type": "execute_result"
    }
   ],
   "source": [
    "A2"
   ]
  },
  {
   "cell_type": "code",
   "execution_count": 13,
   "id": "a98e9b4e",
   "metadata": {},
   "outputs": [
    {
     "data": {
      "text/latex": [
       "$\\displaystyle C^{2} L_{1} L_{2}^{2} R_{p}^{2} \\omega_{1}^{4} + C^{2} L_{1} R_{2}^{2} R_{p}^{2} \\omega_{1}^{2} + 2 C^{2} L_{2} R_{1} R_{2} R_{p}^{2} \\omega_{1}^{2} - 2 C L_{1} L_{2} R_{p}^{2} \\omega_{1}^{2} + 2 C L_{2}^{2} R_{1} R_{p} \\omega_{1}^{2} + C L_{2}^{2} R_{p}^{2} \\omega_{1}^{2} + 2 C R_{1} R_{2}^{2} R_{p} + 2 C R_{1} R_{2} R_{p}^{2} + C R_{2}^{2} R_{p}^{2} + L_{1} L_{2}^{2} \\omega_{1}^{2} + L_{1} R_{2}^{2} + 2 L_{1} R_{2} R_{p} + L_{1} R_{p}^{2} + 2 L_{2} R_{1} R_{2} + 2 L_{2} R_{1} R_{p} + 2 L_{2} R_{2} R_{p} + L_{2} R_{p}^{2}$"
      ],
      "text/plain": [
       "C**2*L_1*L_2**2*R_p**2*omega_1**4 + C**2*L_1*R_2**2*R_p**2*omega_1**2 + 2*C**2*L_2*R_1*R_2*R_p**2*omega_1**2 - 2*C*L_1*L_2*R_p**2*omega_1**2 + 2*C*L_2**2*R_1*R_p*omega_1**2 + C*L_2**2*R_p**2*omega_1**2 + 2*C*R_1*R_2**2*R_p + 2*C*R_1*R_2*R_p**2 + C*R_2**2*R_p**2 + L_1*L_2**2*omega_1**2 + L_1*R_2**2 + 2*L_1*R_2*R_p + L_1*R_p**2 + 2*L_2*R_1*R_2 + 2*L_2*R_1*R_p + 2*L_2*R_2*R_p + L_2*R_p**2"
      ]
     },
     "execution_count": 13,
     "metadata": {},
     "output_type": "execute_result"
    }
   ],
   "source": [
    "A1"
   ]
  },
  {
   "cell_type": "code",
   "execution_count": 14,
   "id": "9301b95a",
   "metadata": {},
   "outputs": [
    {
     "data": {
      "text/latex": [
       "$\\displaystyle C^{2} L_{2}^{2} R_{1} R_{p}^{2} \\omega_{1}^{4} + C^{2} R_{1} R_{2}^{2} R_{p}^{2} \\omega_{1}^{2} - 2 C L_{2} R_{1} R_{p}^{2} \\omega_{1}^{2} + L_{2}^{2} R_{1} \\omega_{1}^{2} + L_{2}^{2} R_{p} \\omega_{1}^{2} + R_{1} R_{2}^{2} + 2 R_{1} R_{2} R_{p} + R_{1} R_{p}^{2} + R_{2}^{2} R_{p} + R_{2} R_{p}^{2}$"
      ],
      "text/plain": [
       "C**2*L_2**2*R_1*R_p**2*omega_1**4 + C**2*R_1*R_2**2*R_p**2*omega_1**2 - 2*C*L_2*R_1*R_p**2*omega_1**2 + L_2**2*R_1*omega_1**2 + L_2**2*R_p*omega_1**2 + R_1*R_2**2 + 2*R_1*R_2*R_p + R_1*R_p**2 + R_2**2*R_p + R_2*R_p**2"
      ]
     },
     "execution_count": 14,
     "metadata": {},
     "output_type": "execute_result"
    }
   ],
   "source": [
    "A0"
   ]
  },
  {
   "cell_type": "code",
   "execution_count": 15,
   "id": "ab5c7557",
   "metadata": {},
   "outputs": [],
   "source": [
    "### 分母の抽出\n",
    "Zd_den = sp.denom(Zd).expand().collect(s)"
   ]
  },
  {
   "cell_type": "code",
   "execution_count": 16,
   "id": "50de6bd7",
   "metadata": {},
   "outputs": [
    {
     "data": {
      "text/latex": [
       "$\\displaystyle C^{2} L_{2}^{2} R_{p}^{2} \\omega_{1}^{4} + C^{2} L_{2}^{2} R_{p}^{2} s^{4} + C^{2} R_{2}^{2} R_{p}^{2} \\omega_{1}^{2} - 2 C L_{2} R_{p}^{2} \\omega_{1}^{2} + L_{2}^{2} \\omega_{1}^{2} + R_{2}^{2} + 2 R_{2} R_{p} + R_{p}^{2} + s^{3} \\left(2 C^{2} L_{2} R_{2} R_{p}^{2} + 2 C L_{2}^{2} R_{p}\\right) + s^{2} \\left(2 C^{2} L_{2}^{2} R_{p}^{2} \\omega_{1}^{2} + C^{2} R_{2}^{2} R_{p}^{2} + 4 C L_{2} R_{2} R_{p} + 2 C L_{2} R_{p}^{2} + L_{2}^{2}\\right) + s \\left(2 C^{2} L_{2} R_{2} R_{p}^{2} \\omega_{1}^{2} + 2 C L_{2}^{2} R_{p} \\omega_{1}^{2} + 2 C R_{2}^{2} R_{p} + 2 C R_{2} R_{p}^{2} + 2 L_{2} R_{2} + 2 L_{2} R_{p}\\right)$"
      ],
      "text/plain": [
       "C**2*L_2**2*R_p**2*omega_1**4 + C**2*L_2**2*R_p**2*s**4 + C**2*R_2**2*R_p**2*omega_1**2 - 2*C*L_2*R_p**2*omega_1**2 + L_2**2*omega_1**2 + R_2**2 + 2*R_2*R_p + R_p**2 + s**3*(2*C**2*L_2*R_2*R_p**2 + 2*C*L_2**2*R_p) + s**2*(2*C**2*L_2**2*R_p**2*omega_1**2 + C**2*R_2**2*R_p**2 + 4*C*L_2*R_2*R_p + 2*C*L_2*R_p**2 + L_2**2) + s*(2*C**2*L_2*R_2*R_p**2*omega_1**2 + 2*C*L_2**2*R_p*omega_1**2 + 2*C*R_2**2*R_p + 2*C*R_2*R_p**2 + 2*L_2*R_2 + 2*L_2*R_p)"
      ]
     },
     "execution_count": 16,
     "metadata": {},
     "output_type": "execute_result"
    }
   ],
   "source": [
    "Zd_den"
   ]
  },
  {
   "cell_type": "code",
   "execution_count": 17,
   "id": "cdeadf37",
   "metadata": {},
   "outputs": [],
   "source": [
    "### 分母の係数\n",
    "B3 = Zd_den.coeff(s, 3)\n",
    "B2 = Zd_den.coeff(s, 2)\n",
    "B1 = Zd_den.coeff(s, 1)\n",
    "B0 = Zd_den.coeff(s, 0)"
   ]
  },
  {
   "cell_type": "code",
   "execution_count": 18,
   "id": "9e1765e3",
   "metadata": {},
   "outputs": [
    {
     "data": {
      "text/latex": [
       "$\\displaystyle 2 C^{2} L_{2} R_{2} R_{p}^{2} + 2 C L_{2}^{2} R_{p}$"
      ],
      "text/plain": [
       "2*C**2*L_2*R_2*R_p**2 + 2*C*L_2**2*R_p"
      ]
     },
     "execution_count": 18,
     "metadata": {},
     "output_type": "execute_result"
    }
   ],
   "source": [
    "B3"
   ]
  },
  {
   "cell_type": "code",
   "execution_count": 19,
   "id": "ee408356",
   "metadata": {},
   "outputs": [
    {
     "data": {
      "text/latex": [
       "$\\displaystyle 2 C^{2} L_{2}^{2} R_{p}^{2} \\omega_{1}^{2} + C^{2} R_{2}^{2} R_{p}^{2} + 4 C L_{2} R_{2} R_{p} + 2 C L_{2} R_{p}^{2} + L_{2}^{2}$"
      ],
      "text/plain": [
       "2*C**2*L_2**2*R_p**2*omega_1**2 + C**2*R_2**2*R_p**2 + 4*C*L_2*R_2*R_p + 2*C*L_2*R_p**2 + L_2**2"
      ]
     },
     "execution_count": 19,
     "metadata": {},
     "output_type": "execute_result"
    }
   ],
   "source": [
    "B2"
   ]
  },
  {
   "cell_type": "code",
   "execution_count": 20,
   "id": "b92f7069",
   "metadata": {},
   "outputs": [
    {
     "data": {
      "text/latex": [
       "$\\displaystyle 2 C^{2} L_{2} R_{2} R_{p}^{2} \\omega_{1}^{2} + 2 C L_{2}^{2} R_{p} \\omega_{1}^{2} + 2 C R_{2}^{2} R_{p} + 2 C R_{2} R_{p}^{2} + 2 L_{2} R_{2} + 2 L_{2} R_{p}$"
      ],
      "text/plain": [
       "2*C**2*L_2*R_2*R_p**2*omega_1**2 + 2*C*L_2**2*R_p*omega_1**2 + 2*C*R_2**2*R_p + 2*C*R_2*R_p**2 + 2*L_2*R_2 + 2*L_2*R_p"
      ]
     },
     "execution_count": 20,
     "metadata": {},
     "output_type": "execute_result"
    }
   ],
   "source": [
    "B1"
   ]
  },
  {
   "cell_type": "code",
   "execution_count": 21,
   "id": "eb3cce59",
   "metadata": {},
   "outputs": [
    {
     "data": {
      "text/latex": [
       "$\\displaystyle C^{2} L_{2}^{2} R_{p}^{2} \\omega_{1}^{4} + C^{2} R_{2}^{2} R_{p}^{2} \\omega_{1}^{2} - 2 C L_{2} R_{p}^{2} \\omega_{1}^{2} + L_{2}^{2} \\omega_{1}^{2} + R_{2}^{2} + 2 R_{2} R_{p} + R_{p}^{2}$"
      ],
      "text/plain": [
       "C**2*L_2**2*R_p**2*omega_1**4 + C**2*R_2**2*R_p**2*omega_1**2 - 2*C*L_2*R_p**2*omega_1**2 + L_2**2*omega_1**2 + R_2**2 + 2*R_2*R_p + R_p**2"
      ]
     },
     "execution_count": 21,
     "metadata": {},
     "output_type": "execute_result"
    }
   ],
   "source": [
    "B0"
   ]
  },
  {
   "cell_type": "code",
   "execution_count": 22,
   "id": "2de2574d",
   "metadata": {},
   "outputs": [],
   "source": [
    "# 非対角成分（干渉項）\n",
    "Zq = sp.im(Z).simplify()"
   ]
  },
  {
   "cell_type": "code",
   "execution_count": 23,
   "id": "d77e9e1b",
   "metadata": {},
   "outputs": [],
   "source": [
    "## 非対角成分の式の整理\n",
    "### 分子の抽出\n",
    "Zq_num = sp.numer(Zq).expand().collect(s)"
   ]
  },
  {
   "cell_type": "code",
   "execution_count": 24,
   "id": "d3154354",
   "metadata": {},
   "outputs": [
    {
     "data": {
      "text/latex": [
       "$\\displaystyle - C^{2} L_{1} L_{2}^{2} R_{p}^{2} \\omega_{1}^{5} - C^{2} L_{1} L_{2}^{2} R_{p}^{2} \\omega_{1} s^{4} - C^{2} L_{1} R_{2}^{2} R_{p}^{2} \\omega_{1}^{3} + 2 C L_{1} L_{2} R_{p}^{2} \\omega_{1}^{3} + C L_{2}^{2} R_{p}^{2} \\omega_{1}^{3} + C R_{2}^{2} R_{p}^{2} \\omega_{1} - L_{1} L_{2}^{2} \\omega_{1}^{3} - L_{1} R_{2}^{2} \\omega_{1} - 2 L_{1} R_{2} R_{p} \\omega_{1} - L_{1} R_{p}^{2} \\omega_{1} - L_{2} R_{p}^{2} \\omega_{1} + s^{3} \\left(- 2 C^{2} L_{1} L_{2} R_{2} R_{p}^{2} \\omega_{1} - 2 C L_{1} L_{2}^{2} R_{p} \\omega_{1}\\right) + s^{2} \\left(- 2 C^{2} L_{1} L_{2}^{2} R_{p}^{2} \\omega_{1}^{3} - C^{2} L_{1} R_{2}^{2} R_{p}^{2} \\omega_{1} - 4 C L_{1} L_{2} R_{2} R_{p} \\omega_{1} - 2 C L_{1} L_{2} R_{p}^{2} \\omega_{1} + C L_{2}^{2} R_{p}^{2} \\omega_{1} - L_{1} L_{2}^{2} \\omega_{1}\\right) + s \\left(- 2 C^{2} L_{1} L_{2} R_{2} R_{p}^{2} \\omega_{1}^{3} - 2 C L_{1} L_{2}^{2} R_{p} \\omega_{1}^{3} - 2 C L_{1} R_{2}^{2} R_{p} \\omega_{1} - 2 C L_{1} R_{2} R_{p}^{2} \\omega_{1} + 2 C L_{2} R_{2} R_{p}^{2} \\omega_{1} - 2 L_{1} L_{2} R_{2} \\omega_{1} - 2 L_{1} L_{2} R_{p} \\omega_{1}\\right)$"
      ],
      "text/plain": [
       "-C**2*L_1*L_2**2*R_p**2*omega_1**5 - C**2*L_1*L_2**2*R_p**2*omega_1*s**4 - C**2*L_1*R_2**2*R_p**2*omega_1**3 + 2*C*L_1*L_2*R_p**2*omega_1**3 + C*L_2**2*R_p**2*omega_1**3 + C*R_2**2*R_p**2*omega_1 - L_1*L_2**2*omega_1**3 - L_1*R_2**2*omega_1 - 2*L_1*R_2*R_p*omega_1 - L_1*R_p**2*omega_1 - L_2*R_p**2*omega_1 + s**3*(-2*C**2*L_1*L_2*R_2*R_p**2*omega_1 - 2*C*L_1*L_2**2*R_p*omega_1) + s**2*(-2*C**2*L_1*L_2**2*R_p**2*omega_1**3 - C**2*L_1*R_2**2*R_p**2*omega_1 - 4*C*L_1*L_2*R_2*R_p*omega_1 - 2*C*L_1*L_2*R_p**2*omega_1 + C*L_2**2*R_p**2*omega_1 - L_1*L_2**2*omega_1) + s*(-2*C**2*L_1*L_2*R_2*R_p**2*omega_1**3 - 2*C*L_1*L_2**2*R_p*omega_1**3 - 2*C*L_1*R_2**2*R_p*omega_1 - 2*C*L_1*R_2*R_p**2*omega_1 + 2*C*L_2*R_2*R_p**2*omega_1 - 2*L_1*L_2*R_2*omega_1 - 2*L_1*L_2*R_p*omega_1)"
      ]
     },
     "execution_count": 24,
     "metadata": {},
     "output_type": "execute_result"
    }
   ],
   "source": [
    "Zq_num"
   ]
  },
  {
   "cell_type": "code",
   "execution_count": 25,
   "id": "f0398dd5",
   "metadata": {},
   "outputs": [],
   "source": [
    "### 分子の係数\n",
    "C4 = Zq_num.coeff(s, 4)\n",
    "C3 = Zq_num.coeff(s, 3)\n",
    "C2 = Zq_num.coeff(s, 2)\n",
    "C1 = Zq_num.coeff(s, 1)\n",
    "C0 = Zq_num.coeff(s, 0)"
   ]
  },
  {
   "cell_type": "code",
   "execution_count": 26,
   "id": "137af6da",
   "metadata": {},
   "outputs": [
    {
     "data": {
      "text/latex": [
       "$\\displaystyle - C^{2} L_{1} L_{2}^{2} R_{p}^{2} \\omega_{1}$"
      ],
      "text/plain": [
       "-C**2*L_1*L_2**2*R_p**2*omega_1"
      ]
     },
     "execution_count": 26,
     "metadata": {},
     "output_type": "execute_result"
    }
   ],
   "source": [
    "C4"
   ]
  },
  {
   "cell_type": "code",
   "execution_count": 27,
   "id": "dc94df1c",
   "metadata": {},
   "outputs": [
    {
     "data": {
      "text/latex": [
       "$\\displaystyle - 2 C^{2} L_{1} L_{2} R_{2} R_{p}^{2} \\omega_{1} - 2 C L_{1} L_{2}^{2} R_{p} \\omega_{1}$"
      ],
      "text/plain": [
       "-2*C**2*L_1*L_2*R_2*R_p**2*omega_1 - 2*C*L_1*L_2**2*R_p*omega_1"
      ]
     },
     "execution_count": 27,
     "metadata": {},
     "output_type": "execute_result"
    }
   ],
   "source": [
    "C3"
   ]
  },
  {
   "cell_type": "code",
   "execution_count": 28,
   "id": "b94560c5",
   "metadata": {},
   "outputs": [
    {
     "data": {
      "text/latex": [
       "$\\displaystyle - 2 C^{2} L_{1} L_{2}^{2} R_{p}^{2} \\omega_{1}^{3} - C^{2} L_{1} R_{2}^{2} R_{p}^{2} \\omega_{1} - 4 C L_{1} L_{2} R_{2} R_{p} \\omega_{1} - 2 C L_{1} L_{2} R_{p}^{2} \\omega_{1} + C L_{2}^{2} R_{p}^{2} \\omega_{1} - L_{1} L_{2}^{2} \\omega_{1}$"
      ],
      "text/plain": [
       "-2*C**2*L_1*L_2**2*R_p**2*omega_1**3 - C**2*L_1*R_2**2*R_p**2*omega_1 - 4*C*L_1*L_2*R_2*R_p*omega_1 - 2*C*L_1*L_2*R_p**2*omega_1 + C*L_2**2*R_p**2*omega_1 - L_1*L_2**2*omega_1"
      ]
     },
     "execution_count": 28,
     "metadata": {},
     "output_type": "execute_result"
    }
   ],
   "source": [
    "C2"
   ]
  },
  {
   "cell_type": "code",
   "execution_count": 29,
   "id": "194eef89",
   "metadata": {},
   "outputs": [
    {
     "data": {
      "text/latex": [
       "$\\displaystyle - 2 C^{2} L_{1} L_{2} R_{2} R_{p}^{2} \\omega_{1}^{3} - 2 C L_{1} L_{2}^{2} R_{p} \\omega_{1}^{3} - 2 C L_{1} R_{2}^{2} R_{p} \\omega_{1} - 2 C L_{1} R_{2} R_{p}^{2} \\omega_{1} + 2 C L_{2} R_{2} R_{p}^{2} \\omega_{1} - 2 L_{1} L_{2} R_{2} \\omega_{1} - 2 L_{1} L_{2} R_{p} \\omega_{1}$"
      ],
      "text/plain": [
       "-2*C**2*L_1*L_2*R_2*R_p**2*omega_1**3 - 2*C*L_1*L_2**2*R_p*omega_1**3 - 2*C*L_1*R_2**2*R_p*omega_1 - 2*C*L_1*R_2*R_p**2*omega_1 + 2*C*L_2*R_2*R_p**2*omega_1 - 2*L_1*L_2*R_2*omega_1 - 2*L_1*L_2*R_p*omega_1"
      ]
     },
     "execution_count": 29,
     "metadata": {},
     "output_type": "execute_result"
    }
   ],
   "source": [
    "C1"
   ]
  },
  {
   "cell_type": "code",
   "execution_count": 30,
   "id": "13c85d25",
   "metadata": {},
   "outputs": [
    {
     "data": {
      "text/latex": [
       "$\\displaystyle - C^{2} L_{1} L_{2}^{2} R_{p}^{2} \\omega_{1}^{5} - C^{2} L_{1} R_{2}^{2} R_{p}^{2} \\omega_{1}^{3} + 2 C L_{1} L_{2} R_{p}^{2} \\omega_{1}^{3} + C L_{2}^{2} R_{p}^{2} \\omega_{1}^{3} + C R_{2}^{2} R_{p}^{2} \\omega_{1} - L_{1} L_{2}^{2} \\omega_{1}^{3} - L_{1} R_{2}^{2} \\omega_{1} - 2 L_{1} R_{2} R_{p} \\omega_{1} - L_{1} R_{p}^{2} \\omega_{1} - L_{2} R_{p}^{2} \\omega_{1}$"
      ],
      "text/plain": [
       "-C**2*L_1*L_2**2*R_p**2*omega_1**5 - C**2*L_1*R_2**2*R_p**2*omega_1**3 + 2*C*L_1*L_2*R_p**2*omega_1**3 + C*L_2**2*R_p**2*omega_1**3 + C*R_2**2*R_p**2*omega_1 - L_1*L_2**2*omega_1**3 - L_1*R_2**2*omega_1 - 2*L_1*R_2*R_p*omega_1 - L_1*R_p**2*omega_1 - L_2*R_p**2*omega_1"
      ]
     },
     "execution_count": 30,
     "metadata": {},
     "output_type": "execute_result"
    }
   ],
   "source": [
    "C0"
   ]
  },
  {
   "cell_type": "code",
   "execution_count": 31,
   "id": "d32374a7",
   "metadata": {},
   "outputs": [],
   "source": [
    "### 分母の抽出\n",
    "Zq_den= sp.denom(Zq).expand().collect(s)"
   ]
  },
  {
   "cell_type": "code",
   "execution_count": 32,
   "id": "a4ae90f5",
   "metadata": {},
   "outputs": [
    {
     "data": {
      "text/latex": [
       "$\\displaystyle C^{2} L_{2}^{2} R_{p}^{2} \\omega_{1}^{4} + C^{2} L_{2}^{2} R_{p}^{2} s^{4} + C^{2} R_{2}^{2} R_{p}^{2} \\omega_{1}^{2} - 2 C L_{2} R_{p}^{2} \\omega_{1}^{2} + L_{2}^{2} \\omega_{1}^{2} + R_{2}^{2} + 2 R_{2} R_{p} + R_{p}^{2} + s^{3} \\left(2 C^{2} L_{2} R_{2} R_{p}^{2} + 2 C L_{2}^{2} R_{p}\\right) + s^{2} \\left(2 C^{2} L_{2}^{2} R_{p}^{2} \\omega_{1}^{2} + C^{2} R_{2}^{2} R_{p}^{2} + 4 C L_{2} R_{2} R_{p} + 2 C L_{2} R_{p}^{2} + L_{2}^{2}\\right) + s \\left(2 C^{2} L_{2} R_{2} R_{p}^{2} \\omega_{1}^{2} + 2 C L_{2}^{2} R_{p} \\omega_{1}^{2} + 2 C R_{2}^{2} R_{p} + 2 C R_{2} R_{p}^{2} + 2 L_{2} R_{2} + 2 L_{2} R_{p}\\right)$"
      ],
      "text/plain": [
       "C**2*L_2**2*R_p**2*omega_1**4 + C**2*L_2**2*R_p**2*s**4 + C**2*R_2**2*R_p**2*omega_1**2 - 2*C*L_2*R_p**2*omega_1**2 + L_2**2*omega_1**2 + R_2**2 + 2*R_2*R_p + R_p**2 + s**3*(2*C**2*L_2*R_2*R_p**2 + 2*C*L_2**2*R_p) + s**2*(2*C**2*L_2**2*R_p**2*omega_1**2 + C**2*R_2**2*R_p**2 + 4*C*L_2*R_2*R_p + 2*C*L_2*R_p**2 + L_2**2) + s*(2*C**2*L_2*R_2*R_p**2*omega_1**2 + 2*C*L_2**2*R_p*omega_1**2 + 2*C*R_2**2*R_p + 2*C*R_2*R_p**2 + 2*L_2*R_2 + 2*L_2*R_p)"
      ]
     },
     "execution_count": 32,
     "metadata": {},
     "output_type": "execute_result"
    }
   ],
   "source": [
    "Zq_den"
   ]
  },
  {
   "cell_type": "code",
   "execution_count": 33,
   "id": "d8c62154",
   "metadata": {},
   "outputs": [],
   "source": [
    "### 分母の係数\n",
    "D4 = Zq_den.coeff(s, 4)\n",
    "D3 = Zq_den.coeff(s, 3)\n",
    "D2 = Zq_den.coeff(s, 2)\n",
    "D1 = Zq_den.coeff(s, 1)\n",
    "D0 = Zq_den.coeff(s, 0)"
   ]
  },
  {
   "cell_type": "code",
   "execution_count": 34,
   "id": "23363019",
   "metadata": {},
   "outputs": [
    {
     "data": {
      "text/latex": [
       "$\\displaystyle C^{2} L_{2}^{2} R_{p}^{2}$"
      ],
      "text/plain": [
       "C**2*L_2**2*R_p**2"
      ]
     },
     "execution_count": 34,
     "metadata": {},
     "output_type": "execute_result"
    }
   ],
   "source": [
    "D4"
   ]
  },
  {
   "cell_type": "code",
   "execution_count": 35,
   "id": "5bd8bfcb",
   "metadata": {},
   "outputs": [
    {
     "data": {
      "text/latex": [
       "$\\displaystyle 2 C^{2} L_{2} R_{2} R_{p}^{2} + 2 C L_{2}^{2} R_{p}$"
      ],
      "text/plain": [
       "2*C**2*L_2*R_2*R_p**2 + 2*C*L_2**2*R_p"
      ]
     },
     "execution_count": 35,
     "metadata": {},
     "output_type": "execute_result"
    }
   ],
   "source": [
    "D3"
   ]
  },
  {
   "cell_type": "code",
   "execution_count": 36,
   "id": "2d1a99d9",
   "metadata": {},
   "outputs": [
    {
     "data": {
      "text/latex": [
       "$\\displaystyle 2 C^{2} L_{2}^{2} R_{p}^{2} \\omega_{1}^{2} + C^{2} R_{2}^{2} R_{p}^{2} + 4 C L_{2} R_{2} R_{p} + 2 C L_{2} R_{p}^{2} + L_{2}^{2}$"
      ],
      "text/plain": [
       "2*C**2*L_2**2*R_p**2*omega_1**2 + C**2*R_2**2*R_p**2 + 4*C*L_2*R_2*R_p + 2*C*L_2*R_p**2 + L_2**2"
      ]
     },
     "execution_count": 36,
     "metadata": {},
     "output_type": "execute_result"
    }
   ],
   "source": [
    "D2"
   ]
  },
  {
   "cell_type": "code",
   "execution_count": 37,
   "id": "d8169538",
   "metadata": {},
   "outputs": [
    {
     "data": {
      "text/latex": [
       "$\\displaystyle 2 C^{2} L_{2} R_{2} R_{p}^{2} \\omega_{1}^{2} + 2 C L_{2}^{2} R_{p} \\omega_{1}^{2} + 2 C R_{2}^{2} R_{p} + 2 C R_{2} R_{p}^{2} + 2 L_{2} R_{2} + 2 L_{2} R_{p}$"
      ],
      "text/plain": [
       "2*C**2*L_2*R_2*R_p**2*omega_1**2 + 2*C*L_2**2*R_p*omega_1**2 + 2*C*R_2**2*R_p + 2*C*R_2*R_p**2 + 2*L_2*R_2 + 2*L_2*R_p"
      ]
     },
     "execution_count": 37,
     "metadata": {},
     "output_type": "execute_result"
    }
   ],
   "source": [
    "D1"
   ]
  },
  {
   "cell_type": "code",
   "execution_count": 38,
   "id": "27e50a91",
   "metadata": {},
   "outputs": [
    {
     "data": {
      "text/latex": [
       "$\\displaystyle C^{2} L_{2}^{2} R_{p}^{2} \\omega_{1}^{4} + C^{2} R_{2}^{2} R_{p}^{2} \\omega_{1}^{2} - 2 C L_{2} R_{p}^{2} \\omega_{1}^{2} + L_{2}^{2} \\omega_{1}^{2} + R_{2}^{2} + 2 R_{2} R_{p} + R_{p}^{2}$"
      ],
      "text/plain": [
       "C**2*L_2**2*R_p**2*omega_1**4 + C**2*R_2**2*R_p**2*omega_1**2 - 2*C*L_2*R_p**2*omega_1**2 + L_2**2*omega_1**2 + R_2**2 + 2*R_2*R_p + R_p**2"
      ]
     },
     "execution_count": 38,
     "metadata": {},
     "output_type": "execute_result"
    }
   ],
   "source": [
    "D0"
   ]
  },
  {
   "cell_type": "code",
   "execution_count": 39,
   "id": "d6bb3a4f",
   "metadata": {},
   "outputs": [],
   "source": [
    "# 関数の定義と回路定数の代入\n",
    "# 回路定数\n",
    "_R1 = 50e-3 # [Ω]\n",
    "_L1 = 0.8e-3 # [H]\n",
    "_R2 = 50e-3 # [Ω]\n",
    "_L2 = 0.8e-3 # [H]\n",
    "_C = 5e-6 # [F]\n",
    "_Rp = 1e3 # [Ω]\n",
    "_omega1 = 2 * sp.pi * 50 # [rad/s] \n",
    "\n",
    "# 対角成分関数の定義(lamnbdify)\n",
    "_Zd = Zd.subs([(R1, _R1), (L1, _L1), (R2, _R2), (L2, _L2), (C, _C), (Rp, _Rp), (omega1, _omega1), (s, sp.I * omega)])\n",
    "Zd_FRA = sp.lambdify(omega, _Zd, \"numpy\")\n",
    "\n",
    "# 非対角成分（干渉項）関数の定義(lamnbdify)\n",
    "_Zq = Zq.subs([(R1, _R1), (L1, _L1), (R2, _R2), (L2, _L2), (C, _C), (Rp, _Rp), (omega1, _omega1), (s, sp.I * omega)])\n",
    "Zq_FRA = sp.lambdify(omega, _Zq, \"numpy\")"
   ]
  },
  {
   "cell_type": "code",
   "execution_count": 40,
   "id": "f3e4d74b",
   "metadata": {},
   "outputs": [
    {
     "data": {
      "text/latex": [
       "$\\displaystyle \\frac{8000.0 \\pi^{2} \\left(8.0 \\cdot 10^{-6} i \\omega + 0.00105\\right) + \\left(0.0008 i \\omega + 0.05\\right) \\left(0.011025 \\pi^{2} \\left(0.00761904761904762 i \\omega + 1\\right)^{2} + 1000100.0025 \\left(- 3.9998000099995 \\cdot 10^{-9} \\omega^{2} + 1.04994750262487 \\cdot 10^{-6} i \\omega - 3.9998000099995 \\cdot 10^{-5} \\pi^{2} + 1\\right)^{2}\\right) + 1000.0 \\left(0.0008 i \\omega + 0.05\\right) \\left(- 4.0 \\cdot 10^{-6} \\omega^{2} + 0.00105 i \\omega - 0.04 \\pi^{2} + 1000.05\\right)}{0.011025 \\pi^{2} \\left(0.00761904761904762 i \\omega + 1\\right)^{2} + 1000100.0025 \\left(- 3.9998000099995 \\cdot 10^{-9} \\omega^{2} + 1.04994750262487 \\cdot 10^{-6} i \\omega - 3.9998000099995 \\cdot 10^{-5} \\pi^{2} + 1\\right)^{2}}$"
      ],
      "text/plain": [
       "(8000.0*pi**2*(8.0e-6*I*omega + 0.00105) + (0.0008*I*omega + 0.05)*(0.011025*pi**2*(0.00761904761904762*I*omega + 1)**2 + 1000100.0025*(-3.9998000099995e-9*omega**2 + 1.04994750262487e-6*I*omega - 3.9998000099995e-5*pi**2 + 1)**2) + 1000.0*(0.0008*I*omega + 0.05)*(-4.0e-6*omega**2 + 0.00105*I*omega - 0.04*pi**2 + 1000.05))/(0.011025*pi**2*(0.00761904761904762*I*omega + 1)**2 + 1000100.0025*(-3.9998000099995e-9*omega**2 + 1.04994750262487e-6*I*omega - 3.9998000099995e-5*pi**2 + 1)**2)"
      ]
     },
     "execution_count": 40,
     "metadata": {},
     "output_type": "execute_result"
    }
   ],
   "source": [
    "_Zd"
   ]
  },
  {
   "cell_type": "code",
   "execution_count": 41,
   "id": "b2c5e5b1",
   "metadata": {},
   "outputs": [
    {
     "data": {
      "text/latex": [
       "$\\displaystyle \\frac{100 \\pi \\left(3.2 \\cdot 10^{-6} \\omega^{2} - 0.00084 i \\omega + 1000.0 \\left(8.0 \\cdot 10^{-6} i \\omega + 0.00105\\right) \\left(0.0008 i \\omega + 0.05\\right) - 8.82 \\cdot 10^{-6} \\pi^{2} \\left(0.00761904761904762 i \\omega + 1\\right)^{2} - 800.080002 \\left(- 3.9998000099995 \\cdot 10^{-9} \\omega^{2} + 1.04994750262487 \\cdot 10^{-6} i \\omega - 3.9998000099995 \\cdot 10^{-5} \\pi^{2} + 1\\right)^{2} - 800.04 + 0.032 \\pi^{2}\\right)}{0.011025 \\pi^{2} \\left(0.00761904761904762 i \\omega + 1\\right)^{2} + 1000100.0025 \\left(- 3.9998000099995 \\cdot 10^{-9} \\omega^{2} + 1.04994750262487 \\cdot 10^{-6} i \\omega - 3.9998000099995 \\cdot 10^{-5} \\pi^{2} + 1\\right)^{2}}$"
      ],
      "text/plain": [
       "100*pi*(3.2e-6*omega**2 - 0.00084*I*omega + 1000.0*(8.0e-6*I*omega + 0.00105)*(0.0008*I*omega + 0.05) - 8.82e-6*pi**2*(0.00761904761904762*I*omega + 1)**2 - 800.080002*(-3.9998000099995e-9*omega**2 + 1.04994750262487e-6*I*omega - 3.9998000099995e-5*pi**2 + 1)**2 - 800.04 + 0.032*pi**2)/(0.011025*pi**2*(0.00761904761904762*I*omega + 1)**2 + 1000100.0025*(-3.9998000099995e-9*omega**2 + 1.04994750262487e-6*I*omega - 3.9998000099995e-5*pi**2 + 1)**2)"
      ]
     },
     "execution_count": 41,
     "metadata": {},
     "output_type": "execute_result"
    }
   ],
   "source": [
    "_Zq"
   ]
  },
  {
   "cell_type": "code",
   "execution_count": 42,
   "id": "eef962a4",
   "metadata": {},
   "outputs": [
    {
     "data": {
      "image/png": "[encoded data removed]",
      "text/plain": [
       "<Figure size 864x576 with 2 Axes>"
      ]
     },
     "metadata": {},
     "output_type": "display_data"
    }
   ],
   "source": [
    "# ボード線図のプロット（正相成分）\n",
    "## データ生成\n",
    "omega = np.logspace(1, 5, 200)\n",
    "Zd_bode = Zd_FRA(omega)\n",
    "Zq_bode = Zq_FRA(omega)\n",
    "\n",
    "## ボード線図のプロット\n",
    "fig, ax = plt.subplots(2, 1, figsize = (12, 8))\n",
    "fig.patch.set_facecolor('lavender')\n",
    "\n",
    "## 絶対値\n",
    "ax[0].set_title(f'Positive-sequence impedance of an LCL circuit on the d-q reference frame')\n",
    "ax[0].loglog(omega, np.abs(Zd_bode), ls = '-', label = r'$|Z_d(s)|$')\n",
    "ax[0].loglog(omega, np.abs(Zq_bode), ls = '-', label = r'$|Z_q(s)|$')\n",
    "ax[0].set_ylabel(r'Impedamce magnitude [$\\Omega$]')\n",
    "# ax[0].set_xlim(1e2, 1e4)\n",
    "ax[0].set_ylim(0.01, 1e3)\n",
    "ax[0].legend()\n",
    "ax[0].grid()\n",
    "\n",
    "## 偏角\n",
    "ax[1].semilogx(omega, np.rad2deg(np.unwrap(np.angle(Zd_bode))), ls = '-', label = r'$\\arg Z_d(s)$')\n",
    "ax[1].semilogx(omega, np.rad2deg(np.unwrap(np.angle(Zq_bode))), ls = '-', label = r'$\\arg Z_d(s)$')\n",
    "# ax[1].set_xlim(1e2, 1e4)\n",
    "ax[1].set_xlabel('Angular frequency [rad/s]')\n",
    "ax[1].set_ylabel('Impedance angle [deg]')\n",
    "ax[1].set_ylim(-360, 360)\n",
    "ax[1].set_yticks(range(-360, 450, 90))\n",
    "ax[1].legend()\n",
    "ax[1].grid()"
   ]
  },
  {
   "cell_type": "code",
   "execution_count": 43,
   "id": "15db093c",
   "metadata": {},
   "outputs": [
    {
     "data": {
      "image/png": "[encoded data removed]",
      "text/plain": [
       "<Figure size 864x576 with 2 Axes>"
      ]
     },
     "metadata": {},
     "output_type": "display_data"
    }
   ],
   "source": [
    "# ボード線図のプロット（逆相成分）\n",
    "## データ生成\n",
    "omega = np.logspace(1, 5, 200)\n",
    "Zd_bode = Zd_FRA(-omega)\n",
    "Zq_bode = Zq_FRA(-omega)\n",
    "\n",
    "## ボード線図のプロット\n",
    "fig, ax = plt.subplots(2, 1, figsize = (12, 8))\n",
    "fig.patch.set_facecolor('lavender')\n",
    "\n",
    "## 絶対値\n",
    "ax[0].set_title(f'Positive-sequence impedance of an LCL circuit on the d-q reference frame')\n",
    "ax[0].loglog(omega, np.abs(Zd_bode), ls = '-', label = r'$|Z_d(s)|$')\n",
    "ax[0].loglog(omega, np.abs(Zq_bode), ls = '-', label = r'$|Z_q(s)|$')\n",
    "ax[0].set_ylabel(r'Impedamce magnitude [$\\Omega$]')\n",
    "# ax[0].set_xlim(1e2, 1e4)\n",
    "ax[0].set_ylim(0.01, 1e3)\n",
    "ax[0].legend()\n",
    "ax[0].grid()\n",
    "\n",
    "## 偏角\n",
    "ax[1].semilogx(omega, np.rad2deg(np.unwrap(np.angle(Zd_bode))), ls = '-', label = r'$\\arg Z_d(s)$')\n",
    "ax[1].semilogx(omega, np.rad2deg(np.unwrap(np.angle(Zq_bode))), ls = '-', label = r'$\\arg Z_d(s)$')\n",
    "# ax[1].set_xlim(1e2, 1e4)\n",
    "ax[1].set_xlabel('Angular frequency [rad/s]')\n",
    "ax[1].set_ylabel('Impedance angle [deg]')\n",
    "ax[1].set_ylim(-360, 360)\n",
    "ax[1].set_yticks(range(-360, 450, 90))\n",
    "ax[1].legend()\n",
    "ax[1].grid()"
   ]
  },
  {
   "cell_type": "code",
   "execution_count": null,
   "id": "8706d295",
   "metadata": {},
   "outputs": [],
   "source": []
  }
 ],
 "metadata": {
  "kernelspec": {
   "display_name": "Python 3",
   "language": "python",
   "name": "python3"
  },
  "language_info": {
   "codemirror_mode": {
    "name": "ipython",
    "version": 3
   },
   "file_extension": ".py",
   "mimetype": "text/x-python",
   "name": "python",
   "nbconvert_exporter": "python",
   "pygments_lexer": "ipython3",
   "version": "3.7.10"
  }
 },
 "nbformat": 4,
 "nbformat_minor": 5
}
