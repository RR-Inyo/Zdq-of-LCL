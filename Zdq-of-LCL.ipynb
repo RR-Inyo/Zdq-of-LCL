{
 "cells": [
  {
   "cell_type": "markdown",
   "id": "54e6ac12",
   "metadata": {},
   "source": [
    "# d-q座標系におけるLCL回路のインピーダンス\n",
    "下に示すLCL回路のd-q座標上でのインピーダンスを求める。\n",
    "\n",
    "<img src=\"LCL.png\" style=\"zoom:40%;\"/>"
   ]
  },
  {
   "cell_type": "code",
   "execution_count": 1,
   "id": "cb8c9d87",
   "metadata": {},
   "outputs": [],
   "source": [
    "import sympy as sp\n",
    "import numpy as np\n",
    "import matplotlib.pyplot as plt\n",
    "\n",
    "# 並列演算記号'//'のオーバーライド\n",
    "## 関数parallelを定義\n",
    "def parallel(self, other):\n",
    "    return self * other / (self + other)\n",
    "\n",
    "## Symbol, Add, Mulのアトリビュート__floordiv__()をparallel()でオーバーライド\n",
    "sp.Symbol.__floordiv__ = parallel\n",
    "sp.Add.__floordiv__ = parallel\n",
    "sp.Mul.__floordiv__ = parallel\n",
    "\n",
    "# 回路要素のシンボル\n",
    "R1, L1, R2, L2, C, Rp = sp.symbols('R_1 L_1 R_2 L_2 C R_p', real = True, positive = True)\n",
    "\n",
    "# ラプラス演算子のシンボル（便宜上，real = Trueとする）\n",
    "s = sp.symbols('s', real = True)\n",
    "\n",
    "# 角周波数のシンボル\n",
    "omega, omega1 = sp.symbols('omega omega_1', real = True)"
   ]
  },
  {
   "cell_type": "code",
   "execution_count": 2,
   "id": "395f52be",
   "metadata": {},
   "outputs": [],
   "source": [
    "# 静止(α-β)座標系でのインピーダンス\n",
    "Zs = R1 + s * L1 + (R2 + s * L2) // (1 / (s * C) // Rp)\n",
    "\n",
    "# ただのRL直列回路の場合\n",
    "# Zs = R1 + s * L1"
   ]
  },
  {
   "cell_type": "code",
   "execution_count": null,
   "id": "20a30d02",
   "metadata": {},
   "outputs": [],
   "source": [
    "Zs.ratsimp().collect(s)"
   ]
  },
  {
   "cell_type": "code",
   "execution_count": null,
   "id": "c7c28199",
   "metadata": {},
   "outputs": [],
   "source": [
    "# 回転(d-q)座標系でのインピーダンス\n",
    "Z = Zs.subs(s, (s - sp.I * omega1))"
   ]
  },
  {
   "cell_type": "code",
   "execution_count": null,
   "id": "50fea0a2",
   "metadata": {},
   "outputs": [],
   "source": [
    "# 対角成分\n",
    "Zd = sp.re(Z).simplify()"
   ]
  },
  {
   "cell_type": "code",
   "execution_count": null,
   "id": "067015db",
   "metadata": {
    "tags": []
   },
   "outputs": [],
   "source": [
    "## 対角成分の式の整理\n",
    "### 分子の抽出\n",
    "Zd_num = sp.numer(Zd).expand().collect(s)"
   ]
  },
  {
   "cell_type": "code",
   "execution_count": null,
   "id": "ed8eec2a",
   "metadata": {},
   "outputs": [],
   "source": [
    "Zd_num"
   ]
  },
  {
   "cell_type": "code",
   "execution_count": null,
   "id": "3cccc9c8",
   "metadata": {},
   "outputs": [],
   "source": [
    "### 分子の係数\n",
    "A5 = Zd_num.coeff(s, 5)\n",
    "A4 = Zd_num.coeff(s, 4)\n",
    "A3 = Zd_num.coeff(s, 3)\n",
    "A2 = Zd_num.coeff(s, 2)\n",
    "A1 = Zd_num.coeff(s, 1)\n",
    "A0 = Zd_num.coeff(s, 0)"
   ]
  },
  {
   "cell_type": "code",
   "execution_count": null,
   "id": "afbfbd27",
   "metadata": {},
   "outputs": [],
   "source": [
    "A5"
   ]
  },
  {
   "cell_type": "code",
   "execution_count": null,
   "id": "c58af4ec",
   "metadata": {},
   "outputs": [],
   "source": [
    "A4"
   ]
  },
  {
   "cell_type": "code",
   "execution_count": null,
   "id": "21762036",
   "metadata": {},
   "outputs": [],
   "source": [
    "A3"
   ]
  },
  {
   "cell_type": "code",
   "execution_count": null,
   "id": "7872631f",
   "metadata": {},
   "outputs": [],
   "source": [
    "A2"
   ]
  },
  {
   "cell_type": "code",
   "execution_count": null,
   "id": "e9d0b8fb",
   "metadata": {},
   "outputs": [],
   "source": [
    "A1"
   ]
  },
  {
   "cell_type": "code",
   "execution_count": null,
   "id": "02fafb66",
   "metadata": {},
   "outputs": [],
   "source": [
    "A0"
   ]
  },
  {
   "cell_type": "code",
   "execution_count": null,
   "id": "6b21f44f",
   "metadata": {},
   "outputs": [],
   "source": [
    "### 分母の抽出\n",
    "Zd_den = sp.denom(Zd).expand().collect(s)"
   ]
  },
  {
   "cell_type": "code",
   "execution_count": null,
   "id": "a03f3b3d",
   "metadata": {},
   "outputs": [],
   "source": [
    "Zd_den"
   ]
  },
  {
   "cell_type": "code",
   "execution_count": null,
   "id": "d10b8bad",
   "metadata": {},
   "outputs": [],
   "source": [
    "### 分母の係数\n",
    "B3 = Zd_den.coeff(s, 3)\n",
    "B2 = Zd_den.coeff(s, 2)\n",
    "B1 = Zd_den.coeff(s, 1)\n",
    "B0 = Zd_den.coeff(s, 0)"
   ]
  },
  {
   "cell_type": "code",
   "execution_count": null,
   "id": "26307be4",
   "metadata": {},
   "outputs": [],
   "source": [
    "B3"
   ]
  },
  {
   "cell_type": "code",
   "execution_count": null,
   "id": "1d16f255",
   "metadata": {},
   "outputs": [],
   "source": [
    "B2"
   ]
  },
  {
   "cell_type": "code",
   "execution_count": null,
   "id": "80aacaeb",
   "metadata": {},
   "outputs": [],
   "source": [
    "B1"
   ]
  },
  {
   "cell_type": "code",
   "execution_count": null,
   "id": "a58065f7",
   "metadata": {},
   "outputs": [],
   "source": [
    "B0"
   ]
  },
  {
   "cell_type": "code",
   "execution_count": null,
   "id": "f3a7a08c",
   "metadata": {},
   "outputs": [],
   "source": [
    "# 非対角成分（干渉項）\n",
    "Zq = sp.im(Z).simplify()"
   ]
  },
  {
   "cell_type": "code",
   "execution_count": null,
   "id": "0de71989",
   "metadata": {},
   "outputs": [],
   "source": [
    "## 非対角成分の式の整理\n",
    "### 分子の抽出\n",
    "Zq_num = sp.numer(Zq).expand().collect(s)"
   ]
  },
  {
   "cell_type": "code",
   "execution_count": null,
   "id": "39efb613",
   "metadata": {},
   "outputs": [],
   "source": [
    "Zq_num"
   ]
  },
  {
   "cell_type": "code",
   "execution_count": null,
   "id": "47a2393b",
   "metadata": {},
   "outputs": [],
   "source": [
    "### 分子の係数\n",
    "C4 = Zq_num.coeff(s, 4)\n",
    "C3 = Zq_num.coeff(s, 3)\n",
    "C2 = Zq_num.coeff(s, 2)\n",
    "C1 = Zq_num.coeff(s, 1)\n",
    "C0 = Zq_num.coeff(s, 0)"
   ]
  },
  {
   "cell_type": "code",
   "execution_count": null,
   "id": "82149eb0",
   "metadata": {},
   "outputs": [],
   "source": [
    "C4"
   ]
  },
  {
   "cell_type": "code",
   "execution_count": null,
   "id": "e7d32005",
   "metadata": {},
   "outputs": [],
   "source": [
    "C3"
   ]
  },
  {
   "cell_type": "code",
   "execution_count": null,
   "id": "cf9dfaa1",
   "metadata": {},
   "outputs": [],
   "source": [
    "C2"
   ]
  },
  {
   "cell_type": "code",
   "execution_count": null,
   "id": "0930978f",
   "metadata": {},
   "outputs": [],
   "source": [
    "C1"
   ]
  },
  {
   "cell_type": "code",
   "execution_count": null,
   "id": "b1fee707",
   "metadata": {},
   "outputs": [],
   "source": [
    "C0"
   ]
  },
  {
   "cell_type": "code",
   "execution_count": null,
   "id": "f922235f",
   "metadata": {},
   "outputs": [],
   "source": [
    "### 分母の抽出\n",
    "Zq_den= sp.denom(Zq).expand().collect(s)"
   ]
  },
  {
   "cell_type": "code",
   "execution_count": null,
   "id": "2aded195",
   "metadata": {},
   "outputs": [],
   "source": [
    "Zq_den"
   ]
  },
  {
   "cell_type": "code",
   "execution_count": null,
   "id": "630ab53a",
   "metadata": {},
   "outputs": [],
   "source": [
    "### 分母の係数\n",
    "D4 = Zq_den.coeff(s, 4)\n",
    "D3 = Zq_den.coeff(s, 3)\n",
    "D2 = Zq_den.coeff(s, 2)\n",
    "D1 = Zq_den.coeff(s, 1)\n",
    "D0 = Zq_den.coeff(s, 0)"
   ]
  },
  {
   "cell_type": "code",
   "execution_count": null,
   "id": "47a4eaaa",
   "metadata": {},
   "outputs": [],
   "source": [
    "D4"
   ]
  },
  {
   "cell_type": "code",
   "execution_count": null,
   "id": "3376166e",
   "metadata": {},
   "outputs": [],
   "source": [
    "D3"
   ]
  },
  {
   "cell_type": "code",
   "execution_count": null,
   "id": "b09ebc44",
   "metadata": {},
   "outputs": [],
   "source": [
    "D2"
   ]
  },
  {
   "cell_type": "code",
   "execution_count": null,
   "id": "da5d3541",
   "metadata": {},
   "outputs": [],
   "source": [
    "D1"
   ]
  },
  {
   "cell_type": "code",
   "execution_count": null,
   "id": "5e93eff1",
   "metadata": {},
   "outputs": [],
   "source": [
    "D0"
   ]
  },
  {
   "cell_type": "code",
   "execution_count": null,
   "id": "bc01da31",
   "metadata": {},
   "outputs": [],
   "source": [
    "# 関数の定義と回路定数の代入\n",
    "# 回路定数\n",
    "_R1 = 50e-3 # [Ω]\n",
    "_L1 = 0.8e-3 # [H]\n",
    "_R2 = 50e-3 # [Ω]\n",
    "_L2 = 0.8e-3 # [H]\n",
    "_C = 5e-6 # [F]\n",
    "_Rp = 1e3 # [Ω]\n",
    "_omega1 = 2 * sp.pi * 50 # [rad/s] \n",
    "\n",
    "# 対角成分関数の定義(lamnbdify)\n",
    "_Zd = Zd.subs([(R1, _R1), (L1, _L1), (R2, _R2), (L2, _L2), (C, _C), (Rp, _Rp), (omega1, _omega1), (s, sp.I * omega)])\n",
    "Zd_FRA = sp.lambdify(omega, _Zd, \"numpy\")\n",
    "\n",
    "# 非対角成分（干渉項）関数の定義(lamnbdify)\n",
    "_Zq = Zq.subs([(R1, _R1), (L1, _L1), (R2, _R2), (L2, _L2), (C, _C), (Rp, _Rp), (omega1, _omega1), (s, sp.I * omega)])\n",
    "Zq_FRA = sp.lambdify(omega, _Zq, \"numpy\")"
   ]
  },
  {
   "cell_type": "code",
   "execution_count": null,
   "id": "95d8a173",
   "metadata": {},
   "outputs": [],
   "source": [
    "_Zd"
   ]
  },
  {
   "cell_type": "code",
   "execution_count": null,
   "id": "9598c11f",
   "metadata": {},
   "outputs": [],
   "source": [
    "_Zq"
   ]
  },
  {
   "cell_type": "code",
   "execution_count": null,
   "id": "1df0739c",
   "metadata": {},
   "outputs": [],
   "source": [
    "# ボード線図のプロット（正相成分）\n",
    "## データ生成\n",
    "omega = np.logspace(1, 5, 200)\n",
    "Zd_bode = Zd_FRA(omega)\n",
    "Zq_bode = Zq_FRA(omega)\n",
    "\n",
    "## ボード線図のプロット\n",
    "fig, ax = plt.subplots(2, 1, figsize = (12, 8))\n",
    "fig.patch.set_facecolor('lavender')\n",
    "\n",
    "## 絶対値\n",
    "ax[0].set_title(f'Positive-sequence impedance of an LCL circuit on the d-q reference frame')\n",
    "ax[0].loglog(omega, np.abs(Zd_bode), ls = '-', label = r'$|Z_d(s)|$')\n",
    "ax[0].loglog(omega, np.abs(Zq_bode), ls = '-', label = r'$|Z_q(s)|$')\n",
    "ax[0].set_ylabel(r'Impedamce magnitude [$\\Omega$]')\n",
    "# ax[0].set_xlim(1e2, 1e4)\n",
    "ax[0].set_ylim(0.01, 1e3)\n",
    "ax[0].legend()\n",
    "ax[0].grid()\n",
    "\n",
    "## 偏角\n",
    "ax[1].semilogx(omega, np.rad2deg(np.unwrap(np.angle(Zd_bode))), ls = '-', label = r'$\\arg Z_d(s)$')\n",
    "ax[1].semilogx(omega, np.rad2deg(np.unwrap(np.angle(Zq_bode))), ls = '-', label = r'$\\arg Z_d(s)$')\n",
    "# ax[1].set_xlim(1e2, 1e4)\n",
    "ax[1].set_xlabel('Angular frequency [rad/s]')\n",
    "ax[1].set_ylabel('Impedance angle [deg]')\n",
    "ax[1].set_ylim(-360, 360)\n",
    "ax[1].set_yticks(range(-360, 450, 90))\n",
    "ax[1].legend()\n",
    "ax[1].grid()"
   ]
  },
  {
   "cell_type": "code",
   "execution_count": null,
   "id": "e3439a48",
   "metadata": {},
   "outputs": [],
   "source": [
    "# ボード線図のプロット（逆相成分）\n",
    "## データ生成\n",
    "omega = np.logspace(1, 5, 200)\n",
    "Zd_bode = Zd_FRA(-omega)\n",
    "Zq_bode = Zq_FRA(-omega)\n",
    "\n",
    "## ボード線図のプロット\n",
    "fig, ax = plt.subplots(2, 1, figsize = (12, 8))\n",
    "fig.patch.set_facecolor('lavender')\n",
    "\n",
    "## 絶対値\n",
    "ax[0].set_title(f'Positive-sequence impedance of an LCL circuit on the d-q reference frame')\n",
    "ax[0].loglog(omega, np.abs(Zd_bode), ls = '-', label = r'$|Z_d(s)|$')\n",
    "ax[0].loglog(omega, np.abs(Zq_bode), ls = '-', label = r'$|Z_q(s)|$')\n",
    "ax[0].set_ylabel(r'Impedamce magnitude [$\\Omega$]')\n",
    "# ax[0].set_xlim(1e2, 1e4)\n",
    "ax[0].set_ylim(0.01, 1e3)\n",
    "ax[0].legend()\n",
    "ax[0].grid()\n",
    "\n",
    "## 偏角\n",
    "ax[1].semilogx(omega, np.rad2deg(np.unwrap(np.angle(Zd_bode))), ls = '-', label = r'$\\arg Z_d(s)$')\n",
    "ax[1].semilogx(omega, np.rad2deg(np.unwrap(np.angle(Zq_bode))), ls = '-', label = r'$\\arg Z_d(s)$')\n",
    "# ax[1].set_xlim(1e2, 1e4)\n",
    "ax[1].set_xlabel('Angular frequency [rad/s]')\n",
    "ax[1].set_ylabel('Impedance angle [deg]')\n",
    "ax[1].set_ylim(-360, 360)\n",
    "ax[1].set_yticks(range(-360, 450, 90))\n",
    "ax[1].legend()\n",
    "ax[1].grid()"
   ]
  },
  {
   "cell_type": "code",
   "execution_count": null,
   "id": "7c5c6506",
   "metadata": {},
   "outputs": [],
   "source": []
  }
 ],
 "metadata": {
  "kernelspec": {
   "display_name": "Python 3",
   "language": "python",
   "name": "python3"
  },
  "language_info": {
   "codemirror_mode": {
    "name": "ipython",
    "version": 3
   },
   "file_extension": ".py",
   "mimetype": "text/x-python",
   "name": "python",
   "nbconvert_exporter": "python",
   "pygments_lexer": "ipython3",
   "version": "3.7.10"
  }
 },
 "nbformat": 4,
 "nbformat_minor": 5
}
